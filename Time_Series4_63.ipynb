{
  "nbformat": 4,
  "nbformat_minor": 0,
  "metadata": {
    "colab": {
      "provenance": []
    },
    "kernelspec": {
      "name": "python3",
      "display_name": "Python 3"
    },
    "language_info": {
      "name": "python"
    }
  },
  "cells": [
    {
      "cell_type": "code",
      "execution_count": 24,
      "metadata": {
        "colab": {
          "base_uri": "https://localhost:8080/"
        },
        "id": "1D5IRNAZRhSD",
        "outputId": "10263086-1319-4fab-a6b3-4c149d7dc4dc"
      },
      "outputs": [
        {
          "output_type": "stream",
          "name": "stdout",
          "text": [
            "Date range:\n",
            " DatetimeIndex(['2020-08-15', '2020-08-16', '2020-08-17', '2020-08-18',\n",
            "               '2020-08-19', '2020-08-20', '2020-08-21', '2020-08-22',\n",
            "               '2020-08-23', '2020-08-24', '2020-08-25', '2020-08-26',\n",
            "               '2020-08-27', '2020-08-28', '2020-08-29', '2020-08-30',\n",
            "               '2020-08-31', '2020-09-01'],\n",
            "              dtype='datetime64[ns]', freq='D')\n"
          ]
        }
      ],
      "source": [
        "import pandas as pd\n",
        "import numpy as np\n",
        "from datetime import datetime\n",
        "ran=pd.date_range(\"2020-08-15\",\"2020-09-01\")\n",
        "print(\"Date range:\\n\",ran)"
      ]
    },
    {
      "cell_type": "code",
      "source": [
        "ran=pd.date_range(\"2020-07-15\", periods=10)\n",
        "print(\"\\nDate range with periods and default day frequency:\\n\",ran)"
      ],
      "metadata": {
        "colab": {
          "base_uri": "https://localhost:8080/"
        },
        "id": "G1lkgTuwSCeD",
        "outputId": "a568a3f5-afd1-43b1-8af2-6ad741655c59"
      },
      "execution_count": 25,
      "outputs": [
        {
          "output_type": "stream",
          "name": "stdout",
          "text": [
            "\n",
            "Date range with periods and default day frequency:\n",
            " DatetimeIndex(['2020-07-15', '2020-07-16', '2020-07-17', '2020-07-18',\n",
            "               '2020-07-19', '2020-07-20', '2020-07-21', '2020-07-22',\n",
            "               '2020-07-23', '2020-07-24'],\n",
            "              dtype='datetime64[ns]', freq='D')\n"
          ]
        }
      ]
    },
    {
      "cell_type": "code",
      "source": [
        "ran=pd.date_range(\"2020-07-15\", periods=10, freq='H')\n",
        "print(\"\\nDate range with periods and hour frequency:\\n\",ran)\n",
        "ran=pd.date_range(\"2020-07-15\", periods=10, freq='H')"
      ],
      "metadata": {
        "colab": {
          "base_uri": "https://localhost:8080/"
        },
        "id": "zGyR93mESQpA",
        "outputId": "c9d75a46-b096-48ed-8b1a-b11da2058ed6"
      },
      "execution_count": 26,
      "outputs": [
        {
          "output_type": "stream",
          "name": "stdout",
          "text": [
            "\n",
            "Date range with periods and hour frequency:\n",
            " DatetimeIndex(['2020-07-15 00:00:00', '2020-07-15 01:00:00',\n",
            "               '2020-07-15 02:00:00', '2020-07-15 03:00:00',\n",
            "               '2020-07-15 04:00:00', '2020-07-15 05:00:00',\n",
            "               '2020-07-15 06:00:00', '2020-07-15 07:00:00',\n",
            "               '2020-07-15 08:00:00', '2020-07-15 09:00:00'],\n",
            "              dtype='datetime64[ns]', freq='h')\n"
          ]
        },
        {
          "output_type": "stream",
          "name": "stderr",
          "text": [
            "<ipython-input-26-4301ef38b7f9>:1: FutureWarning: 'H' is deprecated and will be removed in a future version, please use 'h' instead.\n",
            "  ran=pd.date_range(\"2020-07-15\", periods=10, freq='H')\n",
            "<ipython-input-26-4301ef38b7f9>:3: FutureWarning: 'H' is deprecated and will be removed in a future version, please use 'h' instead.\n",
            "  ran=pd.date_range(\"2020-07-15\", periods=10, freq='H')\n"
          ]
        }
      ]
    },
    {
      "cell_type": "code",
      "source": [
        "ran=pd.period_range(\"2020-10\", periods=10, freq=\"M\")\n",
        "print(\"\\nDate range with periods and month frequency:\\n\",ran)"
      ],
      "metadata": {
        "colab": {
          "base_uri": "https://localhost:8080/"
        },
        "id": "k20g_gJNT5GL",
        "outputId": "14f205e9-80e3-45c3-8637-c43c95e9419b"
      },
      "execution_count": 27,
      "outputs": [
        {
          "output_type": "stream",
          "name": "stdout",
          "text": [
            "\n",
            "Date range with periods and month frequency:\n",
            " PeriodIndex(['2020-10', '2020-11', '2020-12', '2021-01', '2021-02', '2021-03',\n",
            "             '2021-04', '2021-05', '2021-06', '2021-07'],\n",
            "            dtype='period[M]')\n"
          ]
        }
      ]
    },
    {
      "cell_type": "code",
      "source": [
        "ran=pd.timedelta_range(0, periods=8, freq=\"H\")\n",
        "print(\"\\nZero day with hour frequency periods:\\n\",ran)\n",
        "ran=pd.timedelta_range(0, periods=8, freq=\"H\")"
      ],
      "metadata": {
        "colab": {
          "base_uri": "https://localhost:8080/"
        },
        "id": "HBa-TEyUUhtV",
        "outputId": "dfc7eddf-8ee9-43bd-eca4-c3e7ae7215de"
      },
      "execution_count": 28,
      "outputs": [
        {
          "output_type": "stream",
          "name": "stdout",
          "text": [
            "\n",
            "Zero day with hour frequency periods:\n",
            " TimedeltaIndex(['0 days 00:00:00', '0 days 01:00:00', '0 days 02:00:00',\n",
            "                '0 days 03:00:00', '0 days 04:00:00', '0 days 05:00:00',\n",
            "                '0 days 06:00:00', '0 days 07:00:00'],\n",
            "               dtype='timedelta64[ns]', freq='h')\n"
          ]
        },
        {
          "output_type": "stream",
          "name": "stderr",
          "text": [
            "<ipython-input-28-7cfc3d1a19c8>:1: FutureWarning: 'H' is deprecated and will be removed in a future version, please use 'h' instead.\n",
            "  ran=pd.timedelta_range(0, periods=8, freq=\"H\")\n",
            "<ipython-input-28-7cfc3d1a19c8>:3: FutureWarning: 'H' is deprecated and will be removed in a future version, please use 'h' instead.\n",
            "  ran=pd.timedelta_range(0, periods=8, freq=\"H\")\n"
          ]
        }
      ]
    }
  ]
}