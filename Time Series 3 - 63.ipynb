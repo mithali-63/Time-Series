{
 "cells": [
  {
   "cell_type": "code",
   "execution_count": 2,
   "id": "855f2d42",
   "metadata": {},
   "outputs": [
    {
     "name": "stdout",
     "output_type": "stream",
     "text": [
      "Date Index \n",
      " 2011-01-02    1.466139\n",
      "2011-01-05   -0.166421\n",
      "2011-01-07   -0.382234\n",
      "2011-01-08   -0.767809\n",
      "2011-01-10   -0.592157\n",
      "2011-01-12   -0.134299\n",
      "dtype: float64\n"
     ]
    }
   ],
   "source": [
    "import pandas as pd\n",
    "import numpy as np\n",
    "from datetime import datetime\n",
    "#create a date variable that contains the dates\n",
    "dates = [datetime(2011, 1, 2),\n",
    "datetime(2011, 1, 5),\n",
    "datetime(2011, 1, 7),\n",
    "datetime(2011, 1, 8),\n",
    "datetime(2011, 1, 10),\n",
    "datetime(2011, 1, 12)]\n",
    "#with this date object, create a series\n",
    "ts = pd.Series(np.random.randn(6), index=dates)\n",
    "print(\"Date Index \\n\",ts)"
   ]
  },
  {
   "cell_type": "code",
   "execution_count": 3,
   "id": "96a55d6f",
   "metadata": {},
   "outputs": [
    {
     "name": "stdout",
     "output_type": "stream",
     "text": [
      "\n",
      "Date Index alone from the series: \n",
      " DatetimeIndex(['2011-01-02', '2011-01-05', '2011-01-07', '2011-01-08',\n",
      "               '2011-01-10', '2011-01-12'],\n",
      "              dtype='datetime64[ns]', freq=None)\n"
     ]
    }
   ],
   "source": [
    "print(\"\\nDate Index alone from the series: \\n\",ts.index)"
   ]
  },
  {
   "cell_type": "code",
   "execution_count": 4,
   "id": "86b5c0dc",
   "metadata": {},
   "outputs": [
    {
     "name": "stdout",
     "output_type": "stream",
     "text": [
      "\n",
      "Second index:\n",
      " 2011-01-07 00:00:00\n"
     ]
    }
   ],
   "source": [
    "stamp=ts.index[2]\n",
    "print(\"\\nSecond index:\\n\", stamp)"
   ]
  },
  {
   "cell_type": "code",
   "execution_count": 5,
   "id": "cabce80b",
   "metadata": {},
   "outputs": [
    {
     "name": "stdout",
     "output_type": "stream",
     "text": [
      "\n",
      "Daterange up to 1000 days:\n",
      " 2000-01-01   -0.339365\n",
      "2000-01-02    0.443887\n",
      "2000-01-03    0.033861\n",
      "2000-01-04    0.385034\n",
      "2000-01-05    1.346386\n",
      "                ...   \n",
      "2002-09-22   -0.261201\n",
      "2002-09-23    0.175963\n",
      "2002-09-24    2.155868\n",
      "2002-09-25   -2.024568\n",
      "2002-09-26    0.126316\n",
      "Freq: D, Length: 1000, dtype: float64\n"
     ]
    }
   ],
   "source": [
    "#play like a ball with long-times series\n",
    "longer_ts=pd.Series(np.random.randn(1000),\n",
    "index=pd.date_range(\"2000-01-01\",periods=1000))\n",
    "print(\"\\nDaterange up to 1000 days:\\n\",longer_ts)"
   ]
  },
  {
   "cell_type": "code",
   "execution_count": 6,
   "id": "b59ce5d7",
   "metadata": {},
   "outputs": [
    {
     "name": "stdout",
     "output_type": "stream",
     "text": [
      "\n",
      "Date range-2001 year:\n",
      " 2001-01-01   -0.039300\n",
      "2001-01-02    0.580975\n",
      "2001-01-03   -1.454529\n",
      "2001-01-04   -1.065576\n",
      "2001-01-05   -0.875601\n",
      "                ...   \n",
      "2001-12-27    1.212717\n",
      "2001-12-28   -0.986824\n",
      "2001-12-29    1.088068\n",
      "2001-12-30    2.291357\n",
      "2001-12-31   -2.329970\n",
      "Freq: D, Length: 365, dtype: float64\n"
     ]
    }
   ],
   "source": [
    "print(\"\\nDate range-2001 year:\\n\", longer_ts[\"2001\"])"
   ]
  },
  {
   "cell_type": "code",
   "execution_count": 8,
   "id": "a29e5b9e",
   "metadata": {},
   "outputs": [
    {
     "name": "stdout",
     "output_type": "stream",
     "text": [
      "\n",
      "Date range-05 month 2001 year:\n",
      " 2001-05-01    1.002116\n",
      "2001-05-02    0.434118\n",
      "2001-05-03   -3.097272\n",
      "2001-05-04    1.983349\n",
      "2001-05-05    0.282547\n",
      "2001-05-06   -0.771289\n",
      "2001-05-07   -1.921652\n",
      "2001-05-08    0.104202\n",
      "2001-05-09   -0.448865\n",
      "2001-05-10   -2.363422\n",
      "2001-05-11   -1.845916\n",
      "2001-05-12    0.971810\n",
      "2001-05-13    0.204921\n",
      "2001-05-14   -0.343015\n",
      "2001-05-15    0.015690\n",
      "2001-05-16    0.288835\n",
      "2001-05-17   -0.751506\n",
      "2001-05-18    1.639458\n",
      "2001-05-19    0.866762\n",
      "2001-05-20   -0.131254\n",
      "2001-05-21   -1.296868\n",
      "2001-05-22   -0.452002\n",
      "2001-05-23    0.488390\n",
      "2001-05-24    1.179392\n",
      "2001-05-25   -1.925157\n",
      "2001-05-26    0.407342\n",
      "2001-05-27   -1.266529\n",
      "2001-05-28    1.099967\n",
      "2001-05-29   -0.740822\n",
      "2001-05-30    0.280132\n",
      "2001-05-31   -0.053285\n",
      "Freq: D, dtype: float64\n"
     ]
    }
   ],
   "source": [
    "print(\"\\nDate range-05 month 2001 year:\\n\", longer_ts[\"2001-05\"])"
   ]
  },
  {
   "cell_type": "code",
   "execution_count": 9,
   "id": "e9fe1444",
   "metadata": {},
   "outputs": [
    {
     "name": "stdout",
     "output_type": "stream",
     "text": [
      "\n",
      "Date range-first few dates in 2000 year:\n",
      " 2000-01-01   -0.339365\n",
      "2000-01-02    0.443887\n",
      "2000-01-03    0.033861\n",
      "2000-01-04    0.385034\n",
      "2000-01-05    1.346386\n",
      "Freq: D, dtype: float64\n"
     ]
    }
   ],
   "source": [
    "print(\"\\nDate range-first few dates in 2000 year:\\n\",longer_ts[\"2000\"].head())"
   ]
  },
  {
   "cell_type": "code",
   "execution_count": 10,
   "id": "7992c70e",
   "metadata": {},
   "outputs": [
    {
     "name": "stdout",
     "output_type": "stream",
     "text": [
      "\n",
      "Date range-first 15 dates in 02 month 2001 year: 2000-02-01   -0.688932\n",
      "2000-02-02    1.193426\n",
      "2000-02-03   -1.705495\n",
      "2000-02-04   -1.210281\n",
      "2000-02-05   -1.228510\n",
      "2000-02-06   -1.451755\n",
      "2000-02-07    0.805828\n",
      "2000-02-08   -0.416128\n",
      "2000-02-09    1.712385\n",
      "2000-02-10    1.208529\n",
      "2000-02-11   -1.305611\n",
      "2000-02-12   -0.078555\n",
      "2000-02-13    0.502485\n",
      "2000-02-14    0.519127\n",
      "2000-02-15    0.277807\n",
      "Freq: D, dtype: float64\n"
     ]
    }
   ],
   "source": [
    "print(\"\\nDate range-first 15 dates in 02 month 2001 year:\",longer_ts[\"2000-02\"].head(15))"
   ]
  },
  {
   "cell_type": "code",
   "execution_count": 11,
   "id": "7563ed2b",
   "metadata": {},
   "outputs": [
    {
     "name": "stdout",
     "output_type": "stream",
     "text": [
      "\n",
      "Date range-rom 26-9-2001:\n",
      " 2000-09-26    2.624941\n",
      "2000-09-27   -1.273901\n",
      "2000-09-28   -1.977182\n",
      "2000-09-29   -1.280497\n",
      "2000-09-30   -1.047100\n",
      "                ...   \n",
      "2002-09-22   -0.261201\n",
      "2002-09-23    0.175963\n",
      "2002-09-24    2.155868\n",
      "2002-09-25   -2.024568\n",
      "2002-09-26    0.126316\n",
      "Freq: D, Length: 731, dtype: float64\n"
     ]
    }
   ],
   "source": [
    "print(\"\\nDate range-rom 26-9-2001:\\n\",longer_ts[datetime(2000,9,26):])"
   ]
  },
  {
   "cell_type": "code",
   "execution_count": 12,
   "id": "339b1ed2",
   "metadata": {},
   "outputs": [
    {
     "name": "stdout",
     "output_type": "stream",
     "text": [
      "\n",
      "Date range from 26-9-2001 to 25-9-2002:\n",
      " 2001-09-26    0.164605\n",
      "2001-09-27   -0.589573\n",
      "2001-09-28    0.381909\n",
      "2001-09-29   -0.836540\n",
      "2001-09-30    0.793542\n",
      "                ...   \n",
      "2002-09-21    0.582651\n",
      "2002-09-22   -0.261201\n",
      "2002-09-23    0.175963\n",
      "2002-09-24    2.155868\n",
      "2002-09-25   -2.024568\n",
      "Freq: D, Length: 365, dtype: float64\n"
     ]
    }
   ],
   "source": [
    "print(\"\\nDate range from 26-9-2001 to 25-9-2002:\\n\",longer_ts[datetime(2001,9,26):datetime(2002,9,25)])"
   ]
  },
  {
   "cell_type": "code",
   "execution_count": null,
   "id": "d3a4dd71",
   "metadata": {},
   "outputs": [],
   "source": []
  }
 ],
 "metadata": {
  "kernelspec": {
   "display_name": "Python 3 (ipykernel)",
   "language": "python",
   "name": "python3"
  },
  "language_info": {
   "codemirror_mode": {
    "name": "ipython",
    "version": 3
   },
   "file_extension": ".py",
   "mimetype": "text/x-python",
   "name": "python",
   "nbconvert_exporter": "python",
   "pygments_lexer": "ipython3",
   "version": "3.11.5"
  }
 },
 "nbformat": 4,
 "nbformat_minor": 5
}
